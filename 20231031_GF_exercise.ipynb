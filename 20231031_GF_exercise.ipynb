{
  "nbformat": 4,
  "nbformat_minor": 0,
  "metadata": {
    "colab": {
      "provenance": []
    },
    "kernelspec": {
      "name": "python3",
      "display_name": "Python 3"
    },
    "language_info": {
      "name": "python"
    }
  },
  "cells": [
    {
      "cell_type": "code",
      "source": [
        "def primeornot(n):\n",
        "    if n <= 1 :\n",
        "        return False\n",
        "    for i in range(2,n):\n",
        "        if n % i == 0:\n",
        "           return False\n",
        "    return True\n",
        "def findclosestprime(number):\n",
        "    if number <= 1:\n",
        "        return \"輸入錯誤\"\n",
        "    for i in range(number, 1,-1):\n",
        "        if primeornot(i):\n",
        "          return i\n",
        "    return(\"找不到最小質數\")\n",
        "number = int(input(\"請輸入一個數字\"))\n",
        "closestprime = findclosestprime(number)\n",
        "if type(closestprime) == int :\n",
        "  print(f\"離{number}最近的質數是{closestprime}\")\n",
        "else:\n",
        "  print(closestprime)"
      ],
      "metadata": {
        "colab": {
          "base_uri": "https://localhost:8080/"
        },
        "id": "z9N_ZiM5rtJB",
        "outputId": "e7e04a90-3676-44a5-ad05-8cd2cbbe3afe"
      },
      "execution_count": null,
      "outputs": [
        {
          "output_type": "stream",
          "name": "stdout",
          "text": [
            "請輸入一個數字50\n",
            "離50最近的質數是47\n"
          ]
        }
      ]
    },
    {
      "cell_type": "code",
      "source": [
        "a=(input(\"請輸入一段數字:\"))\n",
        "b=a.split(',')\n",
        "d=[]\n",
        "for i in range(len(b)):\n",
        "  e=0\n",
        "  for j in range(len(b)):\n",
        "    if b[i]>b[j]:\n",
        "      e+=1\n",
        "  d.append(e)\n",
        "print(d)"
      ],
      "metadata": {
        "colab": {
          "base_uri": "https://localhost:8080/"
        },
        "id": "vdKflyTE3icA",
        "outputId": "5b0ec70f-501a-4b4c-9912-e419f044d2f7"
      },
      "execution_count": null,
      "outputs": [
        {
          "output_type": "stream",
          "name": "stdout",
          "text": [
            "請輸入一段數字:50\n",
            "[0]\n"
          ]
        }
      ]
    },
    {
      "cell_type": "code",
      "source": [
        "def a(boxes: str):\n",
        "  ans=[0]*len(boxes)\n",
        "  for i in range(len(boxes)):\n",
        "    for j in range(len(boxes)):\n",
        "      if boxes[j]=='1':\n",
        "        ans[i]+= abs(i-j)\n",
        "  return ans\n",
        "a(input(\"輸入一個由0和1組成的字串\"))"
      ],
      "metadata": {
        "colab": {
          "base_uri": "https://localhost:8080/"
        },
        "id": "fNi4G2tK3im4",
        "outputId": "78fe3ae7-2dba-4b5a-b30b-a6837e248eda"
      },
      "execution_count": null,
      "outputs": [
        {
          "name": "stdout",
          "output_type": "stream",
          "text": [
            "輸入一個由0和1組成的字串00100\n"
          ]
        },
        {
          "output_type": "execute_result",
          "data": {
            "text/plain": [
              "[2, 1, 0, 1, 2]"
            ]
          },
          "metadata": {},
          "execution_count": 88
        }
      ]
    }
  ]
}